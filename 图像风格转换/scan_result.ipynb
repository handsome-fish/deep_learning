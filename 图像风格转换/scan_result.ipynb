{
 "cells": [
  {
   "cell_type": "code",
   "execution_count": null,
   "metadata": {},
   "outputs": [],
   "source": [
    "import os\n",
    "import numpy as np\n",
    "import matplotlib.pyplot as plt\n",
    "from matplotlib.pypolot import imshow\n",
    "\n",
    "from PIL import Image\n",
    "\n",
    "DIR = './run_style_transfer'\n",
    "image_name = 'result-00001.jpg'\n",
    "\n",
    "img = Image.open(os.path.join(DIR, image_name))\n",
    "print(img.size)\n",
    "\n",
    "img_arr = np.asarray(img)\n",
    "%matplotlib inline\n",
    "imshow(img_arr)"
   ]
  }
 ],
 "metadata": {
  "kernelspec": {
   "display_name": "Python 3",
   "language": "python",
   "name": "python3"
  },
  "language_info": {
   "codemirror_mode": {
    "name": "ipython",
    "version": 3
   },
   "file_extension": ".py",
   "mimetype": "text/x-python",
   "name": "python",
   "nbconvert_exporter": "python",
   "pygments_lexer": "ipython3",
   "version": "3.6.4"
  }
 },
 "nbformat": 4,
 "nbformat_minor": 2
}
